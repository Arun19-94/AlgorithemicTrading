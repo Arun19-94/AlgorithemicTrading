{
 "cells": [
  {
   "cell_type": "code",
   "execution_count": 6,
   "metadata": {},
   "outputs": [],
   "source": [
    "def naive_momentum_trading(financial_data, nb_conseq_days):\n",
    "    signals = pd.DataFrame(index=financial_data.index)\n",
    "    signals['orders'] = 0\n",
    "    cons_day=0\n",
    "    prior_price=0\n",
    "    init=True\n",
    "    for k in range(len(financial_data['Close'])):\n",
    "        price=financial_data['Close'][k]\n",
    "        if init:\n",
    "            prior_price=price\n",
    "            init=False\n",
    "        elif price>prior_price:\n",
    "            if cons_day<0:\n",
    "                cons_day=0\n",
    "            cons_day+=1\n",
    "        elif price<prior_price:\n",
    "            if cons_day>0:\n",
    "                cons_day=0\n",
    "            cons_day-=1\n",
    "        if cons_day==nb_conseq_days:\n",
    "            signals['orders'][k]=1\n",
    "        elif cons_day == -nb_conseq_days:\n",
    "            signals['orders'][k]=-1\n",
    "    return signals"
   ]
  },
  {
   "cell_type": "markdown",
   "metadata": {},
   "source": [
    "We count the number of times a price is improved.\n",
    "If the number is equal to a given threshold, we buy, assuming the price will keep\n",
    "rising.\n",
    "We will sell if we assume that the price will keep going down."
   ]
  },
  {
   "cell_type": "code",
   "execution_count": 12,
   "metadata": {},
   "outputs": [],
   "source": [
    "import yfinance as yf\n",
    "import pandas as pd\n",
    "from pandas_datareader import data as wb\n",
    "import matplotlib.pyplot as plt\n",
    "import numpy as np\n",
    "import statistics as stats\n",
    "import math as math\n"
   ]
  },
  {
   "cell_type": "code",
   "execution_count": 29,
   "metadata": {},
   "outputs": [],
   "source": [
    "sbi =  yf.Ticker(str('SBIN')+'.NS').history(period=\"10y\")\n",
    "ts=naive_momentum_trading(sbi, 100)"
   ]
  },
  {
   "cell_type": "code",
   "execution_count": 30,
   "metadata": {},
   "outputs": [
    {
     "data": {
      "text/html": [
       "<div>\n",
       "<style scoped>\n",
       "    .dataframe tbody tr th:only-of-type {\n",
       "        vertical-align: middle;\n",
       "    }\n",
       "\n",
       "    .dataframe tbody tr th {\n",
       "        vertical-align: top;\n",
       "    }\n",
       "\n",
       "    .dataframe thead th {\n",
       "        text-align: right;\n",
       "    }\n",
       "</style>\n",
       "<table border=\"1\" class=\"dataframe\">\n",
       "  <thead>\n",
       "    <tr style=\"text-align: right;\">\n",
       "      <th></th>\n",
       "      <th>orders</th>\n",
       "    </tr>\n",
       "    <tr>\n",
       "      <th>Date</th>\n",
       "      <th></th>\n",
       "    </tr>\n",
       "  </thead>\n",
       "  <tbody>\n",
       "    <tr>\n",
       "      <th>2014-05-30</th>\n",
       "      <td>0</td>\n",
       "    </tr>\n",
       "    <tr>\n",
       "      <th>2014-06-02</th>\n",
       "      <td>0</td>\n",
       "    </tr>\n",
       "    <tr>\n",
       "      <th>2014-06-03</th>\n",
       "      <td>0</td>\n",
       "    </tr>\n",
       "    <tr>\n",
       "      <th>2014-06-04</th>\n",
       "      <td>0</td>\n",
       "    </tr>\n",
       "    <tr>\n",
       "      <th>2014-06-05</th>\n",
       "      <td>0</td>\n",
       "    </tr>\n",
       "    <tr>\n",
       "      <th>...</th>\n",
       "      <td>...</td>\n",
       "    </tr>\n",
       "    <tr>\n",
       "      <th>2024-05-24</th>\n",
       "      <td>0</td>\n",
       "    </tr>\n",
       "    <tr>\n",
       "      <th>2024-05-27</th>\n",
       "      <td>0</td>\n",
       "    </tr>\n",
       "    <tr>\n",
       "      <th>2024-05-28</th>\n",
       "      <td>0</td>\n",
       "    </tr>\n",
       "    <tr>\n",
       "      <th>2024-05-29</th>\n",
       "      <td>0</td>\n",
       "    </tr>\n",
       "    <tr>\n",
       "      <th>2024-05-30</th>\n",
       "      <td>0</td>\n",
       "    </tr>\n",
       "  </tbody>\n",
       "</table>\n",
       "<p>2464 rows × 1 columns</p>\n",
       "</div>"
      ],
      "text/plain": [
       "            orders\n",
       "Date              \n",
       "2014-05-30       0\n",
       "2014-06-02       0\n",
       "2014-06-03       0\n",
       "2014-06-04       0\n",
       "2014-06-05       0\n",
       "...            ...\n",
       "2024-05-24       0\n",
       "2024-05-27       0\n",
       "2024-05-28       0\n",
       "2024-05-29       0\n",
       "2024-05-30       0\n",
       "\n",
       "[2464 rows x 1 columns]"
      ]
     },
     "execution_count": 30,
     "metadata": {},
     "output_type": "execute_result"
    }
   ],
   "source": [
    "ts"
   ]
  },
  {
   "cell_type": "code",
   "execution_count": 32,
   "metadata": {},
   "outputs": [
    {
     "data": {
      "image/png": "[encoded data removed]",
      "text/plain": [
       "<Figure size 432x288 with 1 Axes>"
      ]
     },
     "metadata": {
      "needs_background": "light"
     },
     "output_type": "display_data"
    }
   ],
   "source": [
    "fig = plt.figure()\n",
    "ax1 = fig.add_subplot(111, ylabel='Google price in $')\n",
    "sbi[\"Close\"].plot(ax=ax1, color='g', lw=.5)\n",
    "ax1.plot(ts.loc[ts.orders== 1.0].index,\n",
    "sbi[\"Close\"][ts.orders == 1],'^', markersize=7, color='k')\n",
    "ax1.plot(ts.loc[ts.orders== -1.0].index,\n",
    "sbi[\"Close\"][ts.orders == -1],'v', markersize=7, color='k')\n",
    "plt.legend([\"Price\",\"Buy\",\"Sell\"])\n",
    "plt.title(\"Native Trading Strategy\")\n",
    "plt.show()\n"
   ]
  },
  {
   "cell_type": "code",
   "execution_count": null,
   "metadata": {},
   "outputs": [],
   "source": []
  }
 ],
 "metadata": {
  "kernelspec": {
   "display_name": "Python 3",
   "language": "python",
   "name": "python3"
  },
  "language_info": {
   "codemirror_mode": {
    "name": "ipython",
    "version": 3
   },
   "file_extension": ".py",
   "mimetype": "text/x-python",
   "name": "python",
   "nbconvert_exporter": "python",
   "pygments_lexer": "ipython3",
   "version": "3.7.6"
  }
 },
 "nbformat": 4,
 "nbformat_minor": 4
}
